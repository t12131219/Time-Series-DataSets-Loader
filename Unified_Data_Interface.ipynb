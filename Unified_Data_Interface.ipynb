{
 "cells": [
  {
   "cell_type": "code",
   "id": "initial_id",
   "metadata": {
    "collapsed": true,
    "ExecuteTime": {
     "end_time": "2025-04-10T10:26:08.749148Z",
     "start_time": "2025-04-10T10:26:06.782509Z"
    }
   },
   "source": [
    "import pandas as pd\n",
    "import os\n",
    "from DataLoad_Utils.TS_DataLoader import load_from_tsfile_to_dataframe, sort_timeseries\n",
    "from DataLoad_Utils.TS_DataLoader import process_data\n",
    "from DataLoad_Utils.My_Datautils import (Draw_Visiual_Multi_Feature_With_ZNormalization,\n",
    "                                         Draw_Visiual_Single_Feature_Each_Picture,\n",
    "                                         load_UCR, remove_after_dot, Draw_Visiual_Single_Feature, plot_features_with_selector, read_tsf_file,\n",
    "                                         PACF_Visual)\n",
    "from DataLoad_Utils.TSF_DataLoader import convert_tsf_to_dataframea_array\n",
    "import numpy as np"
   ],
   "outputs": [],
   "execution_count": 1
  },
  {
   "metadata": {
    "ExecuteTime": {
     "end_time": "2025-04-10T10:26:08.764156Z",
     "start_time": "2025-04-10T10:26:08.757153Z"
    }
   },
   "cell_type": "code",
   "source": [
    "# data_dir = 'datasets/monash_datasets/bitcoin_dataset_with_missing_values/bitcoin_dataset_with_missing_values.tsf'\n",
    "# data_dir = 'datasets/monash_datasets/australian_electricity_demand_dataset/australian_electricity_demand_dataset.tsf'\n",
    "# data_dir = 'datasets/TSER-Monash_UEA_UCR_Regression_Archive/AppliancesEnergy/AppliancesEnergy_TEST.ts'\n",
    "data_dir = 'datasets/TSER-Monash_UEA_UCR_Regression_Archive/AustraliaRainfall/AustraliaRainfall_TEST.ts'\n",
    "# data_dir = 'DiatomSizeReduction'\n",
    "# data_dir = 'datasets/data/Kaggle/DailyDelhiClimateTest.csv'\n",
    "# data_dir = 'datasets/ETT-small/ETTh1.csv'\n",
    "# data_dir = 'datasets/data/energydata_complete.csv'"
   ],
   "id": "d8cd3bf8cacc972e",
   "outputs": [],
   "execution_count": 2
  },
  {
   "metadata": {
    "ExecuteTime": {
     "end_time": "2025-04-10T10:26:09.032252Z",
     "start_time": "2025-04-10T10:26:09.019253Z"
    }
   },
   "cell_type": "code",
   "source": [
    "file_type = None\n",
    "if '/' in data_dir:\n",
    "    ## parameters\n",
    "    file_name = os.path.basename(data_dir)\n",
    "    result_dir,file_type = remove_after_dot(data_dir)   #截取文件夹路径和文件类型\n",
    "else:   # UCR 自己有一个读取函数\n",
    "    file_name = data_dir\n",
    "    result_dir = \"UCR/\" + file_name\n",
    "\n",
    "json_dir = result_dir\n",
    "# 保存图的路径\n",
    "result_dir = 'Result/' + result_dir\n",
    "\n",
    "print(\"file_type: \", file_type)\n",
    "print(\"file_name: \", file_name)\n",
    "print(\"result_dir: \", result_dir)"
   ],
   "id": "8cffba1a44a6cbf1",
   "outputs": [
    {
     "name": "stdout",
     "output_type": "stream",
     "text": [
      "file_type:  ts\n",
      "file_name:  AustraliaRainfall_TEST.ts\n",
      "result_dir:  Result/datasets/TSER-Monash_UEA_UCR_Regression_Archive/AustraliaRainfall/AustraliaRainfall_TEST\n"
     ]
    }
   ],
   "execution_count": 3
  },
  {
   "metadata": {
    "ExecuteTime": {
     "end_time": "2025-04-10T10:26:09.063251Z",
     "start_time": "2025-04-10T10:26:09.051251Z"
    }
   },
   "cell_type": "code",
   "source": [
    "\n",
    "parameters = dict()\n",
    "parameters['Save_OR_Not'] = True    # 是否保存结果图\n",
    "parameters['cut_OR_Not'] = True     # 是否对特征列过长的数据进行截断\n",
    "parameters['cut_length'] = 30       # 截断长度\n",
    "parameters['CDF_OR_Not'] = False    # 是否显示CDF图\n",
    "parameters['file_name'] = file_name # 数据集名称（单独）\n"
   ],
   "id": "7dfb18902c2f6f3e",
   "outputs": [],
   "execution_count": 4
  },
  {
   "metadata": {
    "ExecuteTime": {
     "end_time": "2025-04-10T10:26:17.401104Z",
     "start_time": "2025-04-10T10:26:09.602934Z"
    }
   },
   "cell_type": "code",
   "source": [
    "from DataLoad_Utils.TS_DataLoader import convert_to_time_series\n",
    "\n",
    "if file_type == 'tsf':  # monash_datasets\n",
    "    # df= read_tsf_file(data_dir)\n",
    "    df,_, _, _, _  = convert_tsf_to_dataframea_array(data_dir)\n",
    "    # df,_, _, _, _  = convert_tsf_to_dataframe(data_dir)\n",
    "elif file_type == 'ts':     # TSER-Monash_UEA_UCR_Regression_Archive\n",
    "    # # set data folder, train & test\n",
    "    # data_folder = data_dir + file_name + \"/\"\n",
    "    # train_file = data_folder + file_name + \"_TRAIN.ts\"\n",
    "    # test_file = data_folder + file_name + \"_TEST.ts\"\n",
    "    test_file = data_dir\n",
    "    module = \"RegressionExperiment\"\n",
    "    # loading the data. X_train and X_test are dataframe of N x n_dim\n",
    "    print(\"[{}] Loading data\".format(module))\n",
    "    X_train, y_train = load_from_tsfile_to_dataframe(test_file)\n",
    "    X_test, y_test = load_from_tsfile_to_dataframe(test_file)\n",
    "    df = X_train\n",
    "    df['dim_train'] = y_train\n",
    "    df = sort_timeseries(df)\n",
    "\n",
    "elif file_type == 'csv' or file_type == 'txt':\n",
    "    df = pd.read_csv(data_dir)\n",
    "elif '/' not in data_dir:\n",
    "    df,_ = load_UCR(data_dir)\n",
    "else:\n",
    "    raise ValueError('Invalid file type')\n"
   ],
   "id": "670fa79294aa0496",
   "outputs": [
    {
     "name": "stdout",
     "output_type": "stream",
     "text": [
      "[RegressionExperiment] Loading data\n"
     ]
    },
    {
     "name": "stderr",
     "output_type": "stream",
     "text": [
      "48097it [00:01, 33382.83it/s]\n",
      "48097it [00:01, 32437.46it/s]\n"
     ]
    }
   ],
   "execution_count": 5
  },
  {
   "metadata": {
    "ExecuteTime": {
     "end_time": "2025-04-10T10:26:19.447877Z",
     "start_time": "2025-04-10T10:26:19.420869Z"
    }
   },
   "cell_type": "code",
   "source": [
    "df\n",
    "# X_test\n",
    "# y_train"
   ],
   "id": "3d60d89ea71bf41b",
   "outputs": [
    {
     "data": {
      "text/plain": [
       "         Index  dim_0  dim_1  dim_2  dim_train\n",
       "0            0   20.0   21.5   19.9        0.0\n",
       "1            1   21.2   21.5   20.9        0.0\n",
       "2            2   21.0   21.2   20.4        0.0\n",
       "3            3   20.5   20.8   20.0        0.0\n",
       "4            4   20.2   20.2   18.8        0.0\n",
       "...        ...    ...    ...    ...        ...\n",
       "1153939     19   10.7   11.5    9.5        0.0\n",
       "1153940     20    9.6    9.6    7.7        0.0\n",
       "1153941     21    7.9    8.0    6.5        0.0\n",
       "1153942     22    7.1    7.3    6.0        0.0\n",
       "1153943     23    6.6    6.7    5.0        0.0\n",
       "\n",
       "[1153944 rows x 5 columns]"
      ],
      "text/html": [
       "<div>\n",
       "<style scoped>\n",
       "    .dataframe tbody tr th:only-of-type {\n",
       "        vertical-align: middle;\n",
       "    }\n",
       "\n",
       "    .dataframe tbody tr th {\n",
       "        vertical-align: top;\n",
       "    }\n",
       "\n",
       "    .dataframe thead th {\n",
       "        text-align: right;\n",
       "    }\n",
       "</style>\n",
       "<table border=\"1\" class=\"dataframe\">\n",
       "  <thead>\n",
       "    <tr style=\"text-align: right;\">\n",
       "      <th></th>\n",
       "      <th>Index</th>\n",
       "      <th>dim_0</th>\n",
       "      <th>dim_1</th>\n",
       "      <th>dim_2</th>\n",
       "      <th>dim_train</th>\n",
       "    </tr>\n",
       "  </thead>\n",
       "  <tbody>\n",
       "    <tr>\n",
       "      <th>0</th>\n",
       "      <td>0</td>\n",
       "      <td>20.0</td>\n",
       "      <td>21.5</td>\n",
       "      <td>19.9</td>\n",
       "      <td>0.0</td>\n",
       "    </tr>\n",
       "    <tr>\n",
       "      <th>1</th>\n",
       "      <td>1</td>\n",
       "      <td>21.2</td>\n",
       "      <td>21.5</td>\n",
       "      <td>20.9</td>\n",
       "      <td>0.0</td>\n",
       "    </tr>\n",
       "    <tr>\n",
       "      <th>2</th>\n",
       "      <td>2</td>\n",
       "      <td>21.0</td>\n",
       "      <td>21.2</td>\n",
       "      <td>20.4</td>\n",
       "      <td>0.0</td>\n",
       "    </tr>\n",
       "    <tr>\n",
       "      <th>3</th>\n",
       "      <td>3</td>\n",
       "      <td>20.5</td>\n",
       "      <td>20.8</td>\n",
       "      <td>20.0</td>\n",
       "      <td>0.0</td>\n",
       "    </tr>\n",
       "    <tr>\n",
       "      <th>4</th>\n",
       "      <td>4</td>\n",
       "      <td>20.2</td>\n",
       "      <td>20.2</td>\n",
       "      <td>18.8</td>\n",
       "      <td>0.0</td>\n",
       "    </tr>\n",
       "    <tr>\n",
       "      <th>...</th>\n",
       "      <td>...</td>\n",
       "      <td>...</td>\n",
       "      <td>...</td>\n",
       "      <td>...</td>\n",
       "      <td>...</td>\n",
       "    </tr>\n",
       "    <tr>\n",
       "      <th>1153939</th>\n",
       "      <td>19</td>\n",
       "      <td>10.7</td>\n",
       "      <td>11.5</td>\n",
       "      <td>9.5</td>\n",
       "      <td>0.0</td>\n",
       "    </tr>\n",
       "    <tr>\n",
       "      <th>1153940</th>\n",
       "      <td>20</td>\n",
       "      <td>9.6</td>\n",
       "      <td>9.6</td>\n",
       "      <td>7.7</td>\n",
       "      <td>0.0</td>\n",
       "    </tr>\n",
       "    <tr>\n",
       "      <th>1153941</th>\n",
       "      <td>21</td>\n",
       "      <td>7.9</td>\n",
       "      <td>8.0</td>\n",
       "      <td>6.5</td>\n",
       "      <td>0.0</td>\n",
       "    </tr>\n",
       "    <tr>\n",
       "      <th>1153942</th>\n",
       "      <td>22</td>\n",
       "      <td>7.1</td>\n",
       "      <td>7.3</td>\n",
       "      <td>6.0</td>\n",
       "      <td>0.0</td>\n",
       "    </tr>\n",
       "    <tr>\n",
       "      <th>1153943</th>\n",
       "      <td>23</td>\n",
       "      <td>6.6</td>\n",
       "      <td>6.7</td>\n",
       "      <td>5.0</td>\n",
       "      <td>0.0</td>\n",
       "    </tr>\n",
       "  </tbody>\n",
       "</table>\n",
       "<p>1153944 rows × 5 columns</p>\n",
       "</div>"
      ]
     },
     "execution_count": 6,
     "metadata": {},
     "output_type": "execute_result"
    }
   ],
   "execution_count": 6
  },
  {
   "metadata": {},
   "cell_type": "code",
   "source": "",
   "id": "dcbea29695348f4",
   "outputs": [],
   "execution_count": null
  }
 ],
 "metadata": {
  "kernelspec": {
   "display_name": "Python 3",
   "language": "python",
   "name": "python3"
  },
  "language_info": {
   "codemirror_mode": {
    "name": "ipython",
    "version": 2
   },
   "file_extension": ".py",
   "mimetype": "text/x-python",
   "name": "python",
   "nbconvert_exporter": "python",
   "pygments_lexer": "ipython2",
   "version": "2.7.6"
  }
 },
 "nbformat": 4,
 "nbformat_minor": 5
}
