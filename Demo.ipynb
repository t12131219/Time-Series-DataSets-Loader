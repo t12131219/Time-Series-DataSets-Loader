{
 "cells": [
  {
   "cell_type": "code",
   "execution_count": null,
   "id": "initial_id",
   "metadata": {
    "collapsed": true
   },
   "outputs": [],
   "source": [
    "import pandas as pd\n",
    "import matplotlib.pyplot as plt\n",
    "import seaborn as sns"
   ]
  },
  {
   "metadata": {},
   "cell_type": "code",
   "outputs": [],
   "execution_count": null,
   "source": [
    "# 用户配置区 ================================================\n",
    "CSV_PATH = \"your_data.csv\"         # CSV文件路径\n",
    "TIME_COLUMN = None                 # 手动指定时间列名（如'date'），None则自动检测\n",
    "USE_SUBPLOTS = True                # 是否使用子图单独显示每个维度\n",
    "STYLE = \"whitegrid\"                # 图表样式（whitegrid/darkgrid/ticks等）\n",
    "FIG_SIZE = (12, 6)                 # 基础图表尺寸（子图模式下高度自动扩展）\n",
    "# ========================================================="
   ],
   "id": "359b1c25f13fa7ab"
  },
  {
   "metadata": {},
   "cell_type": "code",
   "outputs": [],
   "execution_count": null,
   "source": [
    "try:\n",
    "    # 读取CSV文件\n",
    "    df = pd.read_csv(CSV_PATH)\n",
    "\n",
    "    # 自动检测时间列（如果未手动指定）\n",
    "    if TIME_COLUMN is None:\n",
    "        time_candidates = ['date', 'time', 'datetime', 'timestamp']\n",
    "        detected = [col for col in df.columns if col.lower() in time_candidates]\n",
    "        TIME_COLUMN = detected[0] if detected else None\n",
    "\n",
    "    # 处理时间列\n",
    "    x_label = \"时间\"\n",
    "    if TIME_COLUMN:\n",
    "        try:\n",
    "            df[TIME_COLUMN] = pd.to_datetime(df[TIME_COLUMN])\n",
    "            df.sort_values(TIME_COLUMN, inplace=True)  # 按时间排序\n",
    "            x = df[TIME_COLUMN]\n",
    "        except Exception as e:\n",
    "            print(f\"警告：时间列{TIME_COLUMN}格式无效，将使用索引作为时序轴（{e}）\")\n",
    "            TIME_COLUMN = None\n",
    "            x = df.index\n",
    "            x_label = \"索引\"\n",
    "    else:\n",
    "        x = df.index\n",
    "        x_label = \"索引\"\n",
    "\n",
    "    # 提取数值列（排除时间列）\n",
    "    numeric_cols = df.select_dtypes(include='number').columns.tolist()\n",
    "    if TIME_COLUMN and TIME_COLUMN in numeric_cols:\n",
    "        numeric_cols.remove(TIME_COLUMN)\n",
    "\n",
    "    if not numeric_cols:\n",
    "        raise ValueError(\"未找到数值型数据列，请检查数据格式\")\n",
    "\n",
    "    # 可视化设置\n",
    "    sns.set_style(STYLE)\n",
    "    subplot_count = len(numeric_cols)\n",
    "    colors = sns.color_palette(\"husl\", subplot_count)\n",
    "\n",
    "    # 绘制图表\n",
    "    if USE_SUBPLOTS and subplot_count > 1:\n",
    "        fig, axes = plt.subplots(\n",
    "            subplot_count, 1,\n",
    "            figsize=(FIG_SIZE[0], FIG_SIZE[1] * subplot_count),\n",
    "            sharex=True\n",
    "        )\n",
    "        for i, (col, color) in enumerate(zip(numeric_cols, colors)):\n",
    "            ax = axes[i]\n",
    "            ax.plot(x, df[col], color=color)\n",
    "            ax.set_ylabel(col, fontsize=10)\n",
    "            if i == subplot_count - 1:\n",
    "                ax.set_xlabel(x_label, fontsize=10)\n",
    "            ax.grid(True, alpha=0.3)\n",
    "        plt.suptitle(\"时序数据多维分析\", y=0.92)\n",
    "    else:\n",
    "        plt.figure(figsize=FIG_SIZE)\n",
    "        for col, color in zip(numeric_cols, colors):\n",
    "            plt.plot(x, df[col], label=col, color=color)\n",
    "        plt.xlabel(x_label)\n",
    "        plt.ylabel(\"数值\")\n",
    "        plt.legend(bbox_to_anchor=(1.05, 1), loc='upper left')\n",
    "        plt.title(\"时序数据综合分析\")\n",
    "        plt.tight_layout()\n",
    "\n",
    "    plt.show()"
   ],
   "id": "d2bceea49c36dcc"
  },
  {
   "metadata": {},
   "cell_type": "code",
   "outputs": [],
   "execution_count": null,
   "source": [
    "except FileNotFoundError:\n",
    "    print(f\"错误：文件 {CSV_PATH} 不存在\")\n",
    "except pd.errors.ParserError:\n",
    "    print(\"错误：CSV文件解析失败，请检查文件格式\")\n",
    "except ValueError as ve:\n",
    "    print(ve)\n",
    "except Exception as e:\n",
    "    print(f\"未知错误：{str(e)}\")"
   ],
   "id": "8d9f911b944fcd3e"
  }
 ],
 "metadata": {
  "kernelspec": {
   "display_name": "Python 3",
   "language": "python",
   "name": "python3"
  },
  "language_info": {
   "codemirror_mode": {
    "name": "ipython",
    "version": 2
   },
   "file_extension": ".py",
   "mimetype": "text/x-python",
   "name": "python",
   "nbconvert_exporter": "python",
   "pygments_lexer": "ipython2",
   "version": "2.7.6"
  }
 },
 "nbformat": 4,
 "nbformat_minor": 5
}
